{
  "nbformat": 4,
  "nbformat_minor": 0,
  "metadata": {
    "colab": {
      "provenance": []
    },
    "kernelspec": {
      "name": "python3",
      "display_name": "Python 3"
    },
    "language_info": {
      "name": "python"
    }
  },
  "cells": [
    {
      "cell_type": "markdown",
      "source": [
        "## Overview\n",
        "\n",
        "This notebook demonstrates a simple sequence classification pipeline using PyTorch with Learnable Positional Encoding technique.\n",
        "\n",
        "##functions:\n",
        "\n",
        "1. **Dummy Dataset**: Generates random input sequences and labels\n",
        "2. **Model Definition**:\n",
        "   - **Learnable Positional Encoding**: Adds learnable positional encodings to input sequences.\n",
        "   - **Sequence Classifier**: A transformer based model that processes sequences and outputs class predictions with 2 layers stacked with multi head attention.\n"
      ],
      "metadata": {
        "id": "r0VhpCRzZqXA"
      }
    },
    {
      "cell_type": "code",
      "source": [
        "import torch\n",
        "import torch.nn as nn\n",
        "from torch.utils.data import Dataset, DataLoader\n",
        "\n",
        "torch.manual_seed(42)"
      ],
      "metadata": {
        "colab": {
          "base_uri": "https://localhost:8080/"
        },
        "id": "Ct3PZKS6RGVk",
        "outputId": "d6d47784-6c15-417f-feb7-a15f631cabee"
      },
      "execution_count": 44,
      "outputs": [
        {
          "output_type": "execute_result",
          "data": {
            "text/plain": [
              "<torch._C.Generator at 0x7a828d3690d0>"
            ]
          },
          "metadata": {},
          "execution_count": 44
        }
      ]
    },
    {
      "cell_type": "code",
      "source": [
        "# Hyperparameters\n",
        "BATCH_SIZE = 32\n",
        "seq_len = 50\n",
        "dim_model = 128\n",
        "num_classes = 5\n",
        "EPOCHS = 5\n",
        "LR = 1e-3\n",
        "num_samples = 100"
      ],
      "metadata": {
        "id": "IFRI5zVeVNQa"
      },
      "execution_count": 40,
      "outputs": []
    },
    {
      "cell_type": "markdown",
      "source": [
        "## **Creating a Synthetic Sequence Data**"
      ],
      "metadata": {
        "id": "rJGFtc6JV9Oa"
      }
    },
    {
      "cell_type": "code",
      "source": [
        "class DummySequenceDataset(Dataset):\n",
        "    \"\"\"\n",
        "    A dummy dataset for sequence classification models with random sequences and labels.\n",
        "    \"\"\"\n",
        "    def __init__(self, num_samples, seq_len, dim_model, num_classes):\n",
        "      \"\"\"\n",
        "      Args:\n",
        "          num_samples (int): Number of samples in the dataset.\n",
        "          seq_len (int): Length of input sequence.\n",
        "      \"\"\"\n",
        "      self.data = torch.randn(num_samples, seq_len, dim_model)\n",
        "      self.labels = torch.randint(0, num_classes, (num_samples,))\n",
        "\n",
        "    def __len__(self):\n",
        "        \"\"\"\n",
        "        Returns the number of samples in the dataset.\n",
        "        \"\"\"\n",
        "        return len(self.data)\n",
        "\n",
        "    def __getitem__(self, idx):\n",
        "        \"\"\"\n",
        "        Returns a input sample and corresponding label from the dataset.\n",
        "        \"\"\"\n",
        "        return self.data[idx], self.labels[idx]"
      ],
      "metadata": {
        "id": "FKXNcUtgVUq7"
      },
      "execution_count": 29,
      "outputs": []
    },
    {
      "cell_type": "code",
      "source": [
        "dataset = DummySequenceDataset(num_samples,seq_len, dim_model, num_classes)"
      ],
      "metadata": {
        "id": "O9eo3SAOXHmu"
      },
      "execution_count": 41,
      "outputs": []
    },
    {
      "cell_type": "markdown",
      "source": [],
      "metadata": {
        "id": "rdYLUq9JYJA5"
      }
    },
    {
      "cell_type": "code",
      "source": [
        "# Print the size of the sample input and the label\n",
        "\n",
        "random_index = 4\n",
        "sample, label = dataset[random_index]\n",
        "\n",
        "print(f\"input at index {random_index} has size: {sample.size()}\")\n",
        "print(f\" correspoinding Label {random_index} is: {label}\")"
      ],
      "metadata": {
        "colab": {
          "base_uri": "https://localhost:8080/"
        },
        "id": "o2sD3ETxXyru",
        "outputId": "925aec6f-ae0b-482e-dae6-527d048a9d10"
      },
      "execution_count": 42,
      "outputs": [
        {
          "output_type": "stream",
          "name": "stdout",
          "text": [
            "input at index 4 has size: torch.Size([50, 128])\n",
            " correspoinding Label 4 is: 1\n"
          ]
        }
      ]
    },
    {
      "cell_type": "code",
      "source": [
        "class LearnablePositionalEncoding(nn.Module):\n",
        "  \"\"\"\n",
        "  This module adds learnable positional encodings to the input sequence.\n",
        "  The positional encodings are initialized with a normal distribution.\n",
        "  \"\"\"\n",
        "  def __init__(self, dim_model, max_seq_len= 512):\n",
        "      super().__init__()\n",
        "      self.positional_encodings = nn.Parameter(torch.zeros(max_seq_len, dim_model))\n",
        "      nn.init.normal_(self.positional_encodings, mean=0.0, std=0.02)\n",
        "\n",
        "  def forward(self, x: torch.Tensor) -> torch.Tensor:\n",
        "      seq_len = x.size(1)\n",
        "      return x + self.positional_encodings[:max_seq_len, :].unsqueeze(0)"
      ],
      "metadata": {
        "id": "4wmCv7BYVXJc"
      },
      "execution_count": 32,
      "outputs": []
    },
    {
      "cell_type": "code",
      "source": [
        "class SequenceClassifier(nn.Module):\n",
        "    def __init__(self, dim_model, num_classes, maxseq_len=512):\n",
        "      \"\"\"\n",
        "      Args:\n",
        "            dim_model (int): The dimensionality of the input features and the Transformer model.\n",
        "            num_classes (int): output classes.\n",
        "            maxseq_len : The maximum sequence length for positional encoding. Defaults to 512.\n",
        "      \"\"\"\n",
        "      super().__init__()\n",
        "      self.pos_encoder = LearnablePositionalEncoding(dim_model, maxseq_len)\n",
        "      self.transformer = nn.TransformerEncoder(\n",
        "      nn.TransformerEncoderLayer(dim_model, nhead=4),num_layers=2)\n",
        "      self.classifier = nn.Linear(dim_model, num_classes)\n",
        "\n",
        "    def forward(self, x):\n",
        "        x = self.pos_encoder(x)\n",
        "        x = x.permute(1, 0, 2)\n",
        "        x = self.transformer(x)\n",
        "        x = x.mean(dim=0)\n",
        "        return self.classifier(x)"
      ],
      "metadata": {
        "id": "4pz5_rQRcviN"
      },
      "execution_count": 33,
      "outputs": []
    },
    {
      "cell_type": "markdown",
      "source": [
        "## **Training**"
      ],
      "metadata": {
        "id": "0EZE78jKVu_-"
      }
    },
    {
      "cell_type": "code",
      "source": [
        "# Create dataset and dataloader\n",
        "dataloader = DataLoader(dataset, batch_size=BATCH_SIZE, shuffle=True)"
      ],
      "metadata": {
        "id": "e4CaOu94ValQ"
      },
      "execution_count": 43,
      "outputs": []
    },
    {
      "cell_type": "code",
      "source": [
        "model = SequenceClassifier(dim_model, num_classes)\n",
        "criterion = nn.CrossEntropyLoss()\n",
        "# update model parameters during training\n",
        "optimizer = torch.optim.Adam(model.parameters(), lr=LR)"
      ],
      "metadata": {
        "colab": {
          "base_uri": "https://localhost:8080/"
        },
        "id": "rJqAUbEXVeUj",
        "outputId": "f98c0367-d1d2-4365-fcbf-7443744cb104"
      },
      "execution_count": 35,
      "outputs": [
        {
          "output_type": "stream",
          "name": "stderr",
          "text": [
            "/usr/local/lib/python3.11/dist-packages/torch/nn/modules/transformer.py:385: UserWarning: enable_nested_tensor is True, but self.use_nested_tensor is False because encoder_layer.self_attn.batch_first was not True(use batch_first for better inference performance)\n",
            "  warnings.warn(\n"
          ]
        }
      ]
    },
    {
      "cell_type": "code",
      "source": [
        "model.train()\n",
        "for epoch in range(EPOCHS):\n",
        "    total_loss = 0\n",
        "    for batch, (inputs, labels) in enumerate(dataloader):\n",
        "       # # Clears the gradients from the previous batch\n",
        "        optimizer.zero_grad()\n",
        "\n",
        "        outputs = model(inputs)\n",
        "        loss = criterion(outputs, labels)\n",
        "        # compute gradiests\n",
        "        loss.backward()\n",
        "        # Update the gradients.\n",
        "        optimizer.step()\n",
        "\n",
        "        total_loss += loss.item()\n",
        "\n",
        "    print(f\"Epoch {epoch+1}/{EPOCHS} | Loss: {total_loss/len(dataloader):.4f}\")"
      ],
      "metadata": {
        "colab": {
          "base_uri": "https://localhost:8080/"
        },
        "id": "5ys9lmWIVegn",
        "outputId": "d82942c1-dedc-4d52-a1f8-f8cb29cc2866"
      },
      "execution_count": 36,
      "outputs": [
        {
          "output_type": "stream",
          "name": "stdout",
          "text": [
            "Epoch 1/5 | Loss: 2.5007\n",
            "Epoch 2/5 | Loss: 2.1751\n",
            "Epoch 3/5 | Loss: 1.5624\n",
            "Epoch 4/5 | Loss: 1.6777\n",
            "Epoch 5/5 | Loss: 1.7449\n"
          ]
        }
      ]
    },
    {
      "cell_type": "markdown",
      "source": [
        "## **Testing**"
      ],
      "metadata": {
        "id": "-1bSGyPuVrJp"
      }
    },
    {
      "cell_type": "code",
      "source": [
        "model.eval()\n",
        "test_dataset = DummySequenceDataset(num_samples, seq_len,dim_model, num_classes)\n",
        "test_loader = DataLoader(test_dataset, batch_size=BATCH_SIZE)"
      ],
      "metadata": {
        "id": "nZ5D5lp6VnNy"
      },
      "execution_count": 37,
      "outputs": []
    },
    {
      "cell_type": "code",
      "source": [
        "correct = 0\n",
        "total = 0\n",
        "# Disables gradient\n",
        "with torch.no_grad():\n",
        "    for inputs, labels in test_loader:\n",
        "        outputs = model(inputs)\n",
        "        _, predicted = torch.max(outputs.data, 1)\n",
        "        total += labels.size(0)\n",
        "        correct += (predicted == labels).sum().item()\n",
        "\n",
        "print(f\"\\nTest Accuracy: {100 * correct / total:.2f}%\")"
      ],
      "metadata": {
        "colab": {
          "base_uri": "https://localhost:8080/"
        },
        "id": "OJH0pZxXVjPp",
        "outputId": "82751f53-4a3c-415f-8979-66f57e64e960"
      },
      "execution_count": 38,
      "outputs": [
        {
          "output_type": "stream",
          "name": "stdout",
          "text": [
            "\n",
            "Test Accuracy: 15.00%\n"
          ]
        }
      ]
    }
  ]
}